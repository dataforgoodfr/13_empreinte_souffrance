{
 "cells": [
  {
   "cell_type": "code",
   "execution_count": 1,
   "id": "useful-talent",
   "metadata": {},
   "outputs": [],
   "source": [
    "#basics import\n",
    "import numpy as np\n"
   ]
  },
  {
   "cell_type": "markdown",
   "id": "durable-springfield",
   "metadata": {},
   "source": [
    "## OCR with tesseract"
   ]
  },
  {
   "cell_type": "code",
   "execution_count": 5,
   "id": "complimentary-missile",
   "metadata": {},
   "outputs": [
    {
     "name": "stdout",
     "output_type": "stream",
     "text": [
      "Requirement already satisfied: Pillow in /Users/laureleter/.pyenv/versions/3.8.6/envs/lewagon/lib/python3.8/site-packages (8.1.0)\n",
      "Requirement already satisfied: pytesseract in /Users/laureleter/.pyenv/versions/3.8.6/envs/lewagon/lib/python3.8/site-packages (0.3.7)\n",
      "Requirement already satisfied: Pillow in /Users/laureleter/.pyenv/versions/3.8.6/envs/lewagon/lib/python3.8/site-packages (from pytesseract) (8.1.0)\n"
     ]
    }
   ],
   "source": [
    "# Installing requirements for tesseract (pytesseract is tesseract for Python)\n",
    "!pip install Pillow\n",
    "!pip install pytesseract"
   ]
  },
  {
   "cell_type": "code",
   "execution_count": 13,
   "id": "antique-timothy",
   "metadata": {},
   "outputs": [],
   "source": [
    "#import pytesseract and PIL to read the image\n",
    "import pytesseract\n",
    "import PIL\n",
    "from PIL import Image"
   ]
  },
  {
   "cell_type": "code",
   "execution_count": 14,
   "id": "academic-irrigation",
   "metadata": {},
   "outputs": [],
   "source": [
    "# Open image with PIL\n",
    "img = Image.open('wasa.jpg')\n"
   ]
  },
  {
   "cell_type": "code",
   "execution_count": 15,
   "id": "fifty-turner",
   "metadata": {},
   "outputs": [
    {
     "data": {
      "text/plain": [
       "\"Ingrédients: Farine complète de seigle,  farine de seigle (29 g*), levure, JR  Peut contenir des traces de lait et de graines de sésame. Les ingrédients en gras EL provoquer une réaction chez les personnes couffrant d'allergies ou d'intolérances alimentaires, *en g pour 100 g de produit \\x0c\""
      ]
     },
     "execution_count": 15,
     "metadata": {},
     "output_type": "execute_result"
    }
   ],
   "source": [
    "# You need to set the path for pytesseract (Warning, it's a different path in production, see the links in README.md)\n",
    "pytesseract.pytesseract.tesseract_cmd = '/usr/local/bin/tesseract'\n",
    "\n",
    "# This custom config allow you to set the language (-l fra) and other IA setup (more infos in README.md)\n",
    "custom_config = r'--oem 3 --psm 6 -l fra'\n",
    "text = pytesseract.image_to_string(img, config=custom_config) \n",
    "# To remove the '\\n'\n",
    "text = text.replace('\\n', ' ')\n",
    "text\n"
   ]
  },
  {
   "cell_type": "markdown",
   "id": "covered-analysis",
   "metadata": {},
   "source": [
    "## OCR with easyocr"
   ]
  },
  {
   "cell_type": "markdown",
   "id": "seven-truck",
   "metadata": {},
   "source": [
    "easyocr is a very interesting alternative that gives good results but it is heavier and takes longer to extract the text. "
   ]
  },
  {
   "cell_type": "code",
   "execution_count": 10,
   "id": "through-usage",
   "metadata": {},
   "outputs": [],
   "source": [
    "import easyocr"
   ]
  },
  {
   "cell_type": "code",
   "execution_count": 16,
   "id": "dense-shelter",
   "metadata": {},
   "outputs": [],
   "source": [
    "# Open the image with PIL\n",
    "img = Image.open('wasa.jpg')"
   ]
  },
  {
   "cell_type": "code",
   "execution_count": 17,
   "id": "diverse-premium",
   "metadata": {},
   "outputs": [],
   "source": [
    "# Transform the image to an array\n",
    "img = np.array(img)"
   ]
  },
  {
   "cell_type": "code",
   "execution_count": 11,
   "id": "mighty-publisher",
   "metadata": {},
   "outputs": [],
   "source": [
    "# Function we will use to return only text after extraction\n",
    "def display_text(bounds):\n",
    "    text = []\n",
    "    for x in bounds:\n",
    "        t = x[1]\n",
    "        text.append(t)\n",
    "    text = ' '.join(text)\n",
    "    return text"
   ]
  },
  {
   "cell_type": "code",
   "execution_count": 12,
   "id": "wrong-running",
   "metadata": {},
   "outputs": [
    {
     "name": "stderr",
     "output_type": "stream",
     "text": [
      "Using CPU. Note: This module is much faster with a GPU.\n"
     ]
    },
    {
     "data": {
      "text/plain": [
       "\"Ingrédients: Farine de seigle, farine de seigle (29 levure, sel. Peut contenir des traces de lait et de de sésame. Les ingrédients en gras peuvent provoquer une réaction chez les personnes souffrant d'allergies ou d'intolérances alimentaires *en g pour 1O0 g de complète g*), graines produit\""
      ]
     },
     "execution_count": 12,
     "metadata": {},
     "output_type": "execute_result"
    }
   ],
   "source": [
    "# Extraction & diplaying result\n",
    "# 'fr' is the language setup\n",
    "# gpu False because we use a CPU\n",
    "reader = easyocr.Reader(['fr'], gpu = False)\n",
    "text = reader.readtext(img)\n",
    "result = display_text(text)\n",
    "result \n",
    "\n"
   ]
  }
 ],
 "metadata": {
  "kernelspec": {
   "display_name": "Python 3",
   "language": "python",
   "name": "python3"
  },
  "language_info": {
   "codemirror_mode": {
    "name": "ipython",
    "version": 3
   },
   "file_extension": ".py",
   "mimetype": "text/x-python",
   "name": "python",
   "nbconvert_exporter": "python",
   "pygments_lexer": "ipython3",
   "version": "3.8.6"
  },
  "latex_envs": {
   "LaTeX_envs_menu_present": true,
   "autoclose": false,
   "autocomplete": true,
   "bibliofile": "biblio.bib",
   "cite_by": "apalike",
   "current_citInitial": 1,
   "eqLabelWithNumbers": true,
   "eqNumInitial": 1,
   "hotkeys": {
    "equation": "Ctrl-E",
    "itemize": "Ctrl-I"
   },
   "labels_anchors": false,
   "latex_user_defs": false,
   "report_style_numbering": false,
   "user_envs_cfg": false
  },
  "toc": {
   "base_numbering": 1,
   "nav_menu": {},
   "number_sections": true,
   "sideBar": true,
   "skip_h1_title": false,
   "title_cell": "Table of Contents",
   "title_sidebar": "Contents",
   "toc_cell": false,
   "toc_position": {},
   "toc_section_display": true,
   "toc_window_display": false
  },
  "varInspector": {
   "cols": {
    "lenName": 16,
    "lenType": 16,
    "lenVar": 40
   },
   "kernels_config": {
    "python": {
     "delete_cmd_postfix": "",
     "delete_cmd_prefix": "del ",
     "library": "var_list.py",
     "varRefreshCmd": "print(var_dic_list())"
    },
    "r": {
     "delete_cmd_postfix": ") ",
     "delete_cmd_prefix": "rm(",
     "library": "var_list.r",
     "varRefreshCmd": "cat(var_dic_list()) "
    }
   },
   "types_to_exclude": [
    "module",
    "function",
    "builtin_function_or_method",
    "instance",
    "_Feature"
   ],
   "window_display": false
  }
 },
 "nbformat": 4,
 "nbformat_minor": 5
}
