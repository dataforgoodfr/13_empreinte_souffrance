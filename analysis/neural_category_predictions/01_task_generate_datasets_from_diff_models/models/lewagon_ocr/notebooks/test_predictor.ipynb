{
 "cells": [
  {
   "cell_type": "markdown",
   "id": "disabled-receptor",
   "metadata": {},
   "source": [
    "# Test predictor.py"
   ]
  },
  {
   "cell_type": "markdown",
   "id": "directed-reminder",
   "metadata": {},
   "source": [
    "Test predictor as coded in the python package"
   ]
  },
  {
   "cell_type": "code",
   "execution_count": 1,
   "id": "celtic-bundle",
   "metadata": {},
   "outputs": [],
   "source": [
    "import pandas as pd\n",
    "import numpy as np\n",
    "import sys\n",
    "import os"
   ]
  },
  {
   "cell_type": "code",
   "execution_count": 2,
   "id": "medium-belief",
   "metadata": {},
   "outputs": [],
   "source": [
    "import os\n",
    "import sys\n",
    "\n",
    "# This gets the path of the current notebook or script directory\n",
    "project_root = os.path.abspath(os.path.join(os.getcwd(), \"..\"))\n",
    "\n",
    "# Add path to OpenFoodFactsCategorizer\n",
    "categorizer_path = os.path.join(project_root, \"OpenFoodFactsCategorizer\")\n",
    "if categorizer_path not in sys.path:\n",
    "    sys.path.append(categorizer_path)\n",
    "\n",
    "# Now try the imports\n",
    "from OpenFoodFactsCategorizer import data, encoders, trainer, cleaner, predictor\n",
    "\n"
   ]
  },
  {
   "cell_type": "markdown",
   "id": "handled-browse",
   "metadata": {},
   "source": [
    "To test predictor.py in a notebook you have to change the path of the model, depending on is location from the notebook (add ../ in my case)"
   ]
  },
  {
   "cell_type": "code",
   "execution_count": 5,
   "id": "controlling-franklin",
   "metadata": {
    "scrolled": true
   },
   "outputs": [
    {
     "ename": "FileNotFoundError",
     "evalue": "[Errno 2] No such file or directory: 'bestridge.joblib'",
     "output_type": "error",
     "traceback": [
      "\u001b[31m---------------------------------------------------------------------------\u001b[39m",
      "\u001b[31mFileNotFoundError\u001b[39m                         Traceback (most recent call last)",
      "\u001b[36mCell\u001b[39m\u001b[36m \u001b[39m\u001b[32mIn[5]\u001b[39m\u001b[32m, line 2\u001b[39m\n\u001b[32m      1\u001b[39m pred = predictor.Predictor(text=predictor.Predictor.text)\n\u001b[32m----> \u001b[39m\u001b[32m2\u001b[39m \u001b[43mpred\u001b[49m\u001b[43m.\u001b[49m\u001b[43mload_model\u001b[49m\u001b[43m(\u001b[49m\u001b[43m)\u001b[49m\n",
      "\u001b[36mFile \u001b[39m\u001b[32m~/.pyenv/versions/3.13.2/lib/python3.13/site-packages/OpenFoodFactsCategorizer/predictor.py:27\u001b[39m, in \u001b[36mPredictor.load_model\u001b[39m\u001b[34m(self)\u001b[39m\n\u001b[32m     24\u001b[39m \u001b[38;5;28;01mdef\u001b[39;00m\u001b[38;5;250m \u001b[39m\u001b[34mload_model\u001b[39m(\u001b[38;5;28mself\u001b[39m):\n\u001b[32m     25\u001b[39m     \u001b[38;5;28;01mif\u001b[39;00m Predictor.model \u001b[38;5;129;01mis\u001b[39;00m \u001b[38;5;28;01mNone\u001b[39;00m:\n\u001b[32m     26\u001b[39m         \u001b[38;5;66;03m# change the path whith your model name and location\u001b[39;00m\n\u001b[32m---> \u001b[39m\u001b[32m27\u001b[39m         Predictor.model = \u001b[43mjoblib\u001b[49m\u001b[43m.\u001b[49m\u001b[43mload\u001b[49m\u001b[43m(\u001b[49m\u001b[33;43m'\u001b[39;49m\u001b[33;43mbestridge.joblib\u001b[39;49m\u001b[33;43m'\u001b[39;49m\u001b[43m)\u001b[49m\n\u001b[32m     28\u001b[39m     \u001b[38;5;28mself\u001b[39m.model = Predictor.model\n",
      "\u001b[36mFile \u001b[39m\u001b[32m~/.pyenv/versions/3.13.2/lib/python3.13/site-packages/joblib/numpy_pickle.py:735\u001b[39m, in \u001b[36mload\u001b[39m\u001b[34m(filename, mmap_mode, ensure_native_byte_order)\u001b[39m\n\u001b[32m    733\u001b[39m         obj = _unpickle(fobj, ensure_native_byte_order=ensure_native_byte_order)\n\u001b[32m    734\u001b[39m \u001b[38;5;28;01melse\u001b[39;00m:\n\u001b[32m--> \u001b[39m\u001b[32m735\u001b[39m     \u001b[38;5;28;01mwith\u001b[39;00m \u001b[38;5;28;43mopen\u001b[39;49m\u001b[43m(\u001b[49m\u001b[43mfilename\u001b[49m\u001b[43m,\u001b[49m\u001b[43m \u001b[49m\u001b[33;43m\"\u001b[39;49m\u001b[33;43mrb\u001b[39;49m\u001b[33;43m\"\u001b[39;49m\u001b[43m)\u001b[49m \u001b[38;5;28;01mas\u001b[39;00m f:\n\u001b[32m    736\u001b[39m         \u001b[38;5;28;01mwith\u001b[39;00m _validate_fileobject_and_memmap(f, filename, mmap_mode) \u001b[38;5;28;01mas\u001b[39;00m (\n\u001b[32m    737\u001b[39m             fobj,\n\u001b[32m    738\u001b[39m             validated_mmap_mode,\n\u001b[32m    739\u001b[39m         ):\n\u001b[32m    740\u001b[39m             \u001b[38;5;28;01mif\u001b[39;00m \u001b[38;5;28misinstance\u001b[39m(fobj, \u001b[38;5;28mstr\u001b[39m):\n\u001b[32m    741\u001b[39m                 \u001b[38;5;66;03m# if the returned file object is a string, this means we\u001b[39;00m\n\u001b[32m    742\u001b[39m                 \u001b[38;5;66;03m# try to load a pickle file generated with an version of\u001b[39;00m\n\u001b[32m    743\u001b[39m                 \u001b[38;5;66;03m# Joblib so we load it with joblib compatibility function.\u001b[39;00m\n",
      "\u001b[31mFileNotFoundError\u001b[39m: [Errno 2] No such file or directory: 'bestridge.joblib'"
     ]
    }
   ],
   "source": [
    "pred = predictor.Predictor(text=predictor.Predictor.text)\n",
    "pred.load_model()\n",
    "\n"
   ]
  },
  {
   "cell_type": "code",
   "execution_count": 7,
   "id": "14aadb5d",
   "metadata": {},
   "outputs": [
    {
     "ename": "FileNotFoundError",
     "evalue": "[Errno 2] No such file or directory: 'bestridge.joblib'",
     "output_type": "error",
     "traceback": [
      "\u001b[31m---------------------------------------------------------------------------\u001b[39m",
      "\u001b[31mFileNotFoundError\u001b[39m                         Traceback (most recent call last)",
      "\u001b[36mCell\u001b[39m\u001b[36m \u001b[39m\u001b[32mIn[7]\u001b[39m\u001b[32m, line 10\u001b[39m\n\u001b[32m      7\u001b[39m pred = Predictor(text=ocr_text)\n\u001b[32m      9\u001b[39m \u001b[38;5;66;03m# Step 3: Load the model\u001b[39;00m\n\u001b[32m---> \u001b[39m\u001b[32m10\u001b[39m \u001b[43mpred\u001b[49m\u001b[43m.\u001b[49m\u001b[43mload_model\u001b[49m\u001b[43m(\u001b[49m\u001b[43m)\u001b[49m\n\u001b[32m     12\u001b[39m \u001b[38;5;66;03m# Step 4: Predict the category\u001b[39;00m\n\u001b[32m     13\u001b[39m result = pred.predict(threshold=\u001b[32m0.012\u001b[39m)\n",
      "\u001b[36mFile \u001b[39m\u001b[32m~/.pyenv/versions/3.13.2/lib/python3.13/site-packages/OpenFoodFactsCategorizer/predictor.py:27\u001b[39m, in \u001b[36mPredictor.load_model\u001b[39m\u001b[34m(self)\u001b[39m\n\u001b[32m     24\u001b[39m \u001b[38;5;28;01mdef\u001b[39;00m\u001b[38;5;250m \u001b[39m\u001b[34mload_model\u001b[39m(\u001b[38;5;28mself\u001b[39m):\n\u001b[32m     25\u001b[39m     \u001b[38;5;28;01mif\u001b[39;00m Predictor.model \u001b[38;5;129;01mis\u001b[39;00m \u001b[38;5;28;01mNone\u001b[39;00m:\n\u001b[32m     26\u001b[39m         \u001b[38;5;66;03m# change the path whith your model name and location\u001b[39;00m\n\u001b[32m---> \u001b[39m\u001b[32m27\u001b[39m         Predictor.model = \u001b[43mjoblib\u001b[49m\u001b[43m.\u001b[49m\u001b[43mload\u001b[49m\u001b[43m(\u001b[49m\u001b[33;43m'\u001b[39;49m\u001b[33;43mbestridge.joblib\u001b[39;49m\u001b[33;43m'\u001b[39;49m\u001b[43m)\u001b[49m\n\u001b[32m     28\u001b[39m     \u001b[38;5;28mself\u001b[39m.model = Predictor.model\n",
      "\u001b[36mFile \u001b[39m\u001b[32m~/.pyenv/versions/3.13.2/lib/python3.13/site-packages/joblib/numpy_pickle.py:735\u001b[39m, in \u001b[36mload\u001b[39m\u001b[34m(filename, mmap_mode, ensure_native_byte_order)\u001b[39m\n\u001b[32m    733\u001b[39m         obj = _unpickle(fobj, ensure_native_byte_order=ensure_native_byte_order)\n\u001b[32m    734\u001b[39m \u001b[38;5;28;01melse\u001b[39;00m:\n\u001b[32m--> \u001b[39m\u001b[32m735\u001b[39m     \u001b[38;5;28;01mwith\u001b[39;00m \u001b[38;5;28;43mopen\u001b[39;49m\u001b[43m(\u001b[49m\u001b[43mfilename\u001b[49m\u001b[43m,\u001b[49m\u001b[43m \u001b[49m\u001b[33;43m\"\u001b[39;49m\u001b[33;43mrb\u001b[39;49m\u001b[33;43m\"\u001b[39;49m\u001b[43m)\u001b[49m \u001b[38;5;28;01mas\u001b[39;00m f:\n\u001b[32m    736\u001b[39m         \u001b[38;5;28;01mwith\u001b[39;00m _validate_fileobject_and_memmap(f, filename, mmap_mode) \u001b[38;5;28;01mas\u001b[39;00m (\n\u001b[32m    737\u001b[39m             fobj,\n\u001b[32m    738\u001b[39m             validated_mmap_mode,\n\u001b[32m    739\u001b[39m         ):\n\u001b[32m    740\u001b[39m             \u001b[38;5;28;01mif\u001b[39;00m \u001b[38;5;28misinstance\u001b[39m(fobj, \u001b[38;5;28mstr\u001b[39m):\n\u001b[32m    741\u001b[39m                 \u001b[38;5;66;03m# if the returned file object is a string, this means we\u001b[39;00m\n\u001b[32m    742\u001b[39m                 \u001b[38;5;66;03m# try to load a pickle file generated with an version of\u001b[39;00m\n\u001b[32m    743\u001b[39m                 \u001b[38;5;66;03m# Joblib so we load it with joblib compatibility function.\u001b[39;00m\n",
      "\u001b[31mFileNotFoundError\u001b[39m: [Errno 2] No such file or directory: 'bestridge.joblib'"
     ]
    }
   ],
   "source": [
    "from OpenFoodFactsCategorizer.predictor import Predictor\n",
    "\n",
    "# Step 1: Get the cleaned OCR text (already handled statically in the class)\n",
    "ocr_text = Predictor.text  # or manually provide your own cleaned text\n",
    "\n",
    "# Step 2: Create a predictor instance\n",
    "pred = Predictor(text=ocr_text)\n",
    "\n",
    "# Step 3: Load the model\n",
    "pred.load_model()\n",
    "\n",
    "# Step 4: Predict the category\n",
    "result = pred.predict(threshold=0.012)\n",
    "\n",
    "# Step 5: View the result\n",
    "print(result)"
   ]
  },
  {
   "cell_type": "code",
   "execution_count": 4,
   "id": "burning-supply",
   "metadata": {},
   "outputs": [
    {
     "name": "stdout",
     "output_type": "stream",
     "text": [
      "salty and fatty products\n"
     ]
    }
   ],
   "source": [
    "print(pred.predict(threshold=0.012))"
   ]
  },
  {
   "cell_type": "markdown",
   "id": "continuous-permission",
   "metadata": {},
   "source": [
    "# Test Predictor.py with decomposed steps "
   ]
  },
  {
   "cell_type": "markdown",
   "id": "piano-healing",
   "metadata": {},
   "source": [
    "Test of a modified predictor.py to make the steps appear in the notebook (with call of the other classes)"
   ]
  },
  {
   "cell_type": "code",
   "execution_count": 5,
   "id": "respective-folks",
   "metadata": {},
   "outputs": [],
   "source": [
    "text = data.get_data_from_ocr('https://static.openfoodfacts.org/images/products/00390804/1.json')"
   ]
  },
  {
   "cell_type": "code",
   "execution_count": 6,
   "id": "oriental-medication",
   "metadata": {},
   "outputs": [],
   "source": [
    "clean = cleaner.Cleaner()"
   ]
  },
  {
   "cell_type": "code",
   "execution_count": 7,
   "id": "prostate-cleveland",
   "metadata": {},
   "outputs": [],
   "source": [
    "text = clean.clean_ocr_text(text=text, spellcheck=None)"
   ]
  },
  {
   "cell_type": "code",
   "execution_count": 8,
   "id": "quantitative-seminar",
   "metadata": {},
   "outputs": [
    {
     "data": {
      "text/plain": [
       "'seeded houmous by sainsbury s vegan keep refrigerated serves per pot use by fat saturates sugars salt energy k kcal g g g g mar hl e of the reference intakes typical values per g energy kj kcal'"
      ]
     },
     "execution_count": 8,
     "metadata": {},
     "output_type": "execute_result"
    }
   ],
   "source": [
    "text"
   ]
  },
  {
   "cell_type": "code",
   "execution_count": 10,
   "id": "alternative-following",
   "metadata": {},
   "outputs": [],
   "source": [
    "pred = predictor.Predictor(text=text)"
   ]
  },
  {
   "cell_type": "code",
   "execution_count": 11,
   "id": "orange-rescue",
   "metadata": {},
   "outputs": [],
   "source": [
    "pred.load_model()"
   ]
  },
  {
   "cell_type": "code",
   "execution_count": 12,
   "id": "specific-inside",
   "metadata": {},
   "outputs": [
    {
     "data": {
      "text/plain": [
       "'salty and fatty products'"
      ]
     },
     "execution_count": 12,
     "metadata": {},
     "output_type": "execute_result"
    }
   ],
   "source": [
    "pred.predict(threshold=0.012)"
   ]
  },
  {
   "cell_type": "code",
   "execution_count": null,
   "id": "established-electron",
   "metadata": {},
   "outputs": [],
   "source": []
  }
 ],
 "metadata": {
  "kernelspec": {
   "display_name": "Python 3",
   "language": "python",
   "name": "python3"
  },
  "language_info": {
   "codemirror_mode": {
    "name": "ipython",
    "version": 3
   },
   "file_extension": ".py",
   "mimetype": "text/x-python",
   "name": "python",
   "nbconvert_exporter": "python",
   "pygments_lexer": "ipython3",
   "version": "3.13.2"
  },
  "latex_envs": {
   "LaTeX_envs_menu_present": true,
   "autoclose": false,
   "autocomplete": true,
   "bibliofile": "biblio.bib",
   "cite_by": "apalike",
   "current_citInitial": 1,
   "eqLabelWithNumbers": true,
   "eqNumInitial": 1,
   "hotkeys": {
    "equation": "Ctrl-E",
    "itemize": "Ctrl-I"
   },
   "labels_anchors": false,
   "latex_user_defs": false,
   "report_style_numbering": false,
   "user_envs_cfg": false
  },
  "toc": {
   "base_numbering": 1,
   "nav_menu": {},
   "number_sections": true,
   "sideBar": true,
   "skip_h1_title": false,
   "title_cell": "Table of Contents",
   "title_sidebar": "Contents",
   "toc_cell": false,
   "toc_position": {},
   "toc_section_display": true,
   "toc_window_display": false
  },
  "varInspector": {
   "cols": {
    "lenName": 16,
    "lenType": 16,
    "lenVar": 40
   },
   "kernels_config": {
    "python": {
     "delete_cmd_postfix": "",
     "delete_cmd_prefix": "del ",
     "library": "var_list.py",
     "varRefreshCmd": "print(var_dic_list())"
    },
    "r": {
     "delete_cmd_postfix": ") ",
     "delete_cmd_prefix": "rm(",
     "library": "var_list.r",
     "varRefreshCmd": "cat(var_dic_list()) "
    }
   },
   "types_to_exclude": [
    "module",
    "function",
    "builtin_function_or_method",
    "instance",
    "_Feature"
   ],
   "window_display": false
  }
 },
 "nbformat": 4,
 "nbformat_minor": 5
}
