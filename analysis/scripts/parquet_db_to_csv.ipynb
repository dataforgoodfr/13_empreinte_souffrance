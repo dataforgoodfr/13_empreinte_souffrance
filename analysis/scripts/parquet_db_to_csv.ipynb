{
 "cells": [
  {
   "cell_type": "markdown",
   "id": "b2526384",
   "metadata": {},
   "source": [
    "# Introduction\n",
    "\n",
    "Ce document résume les jeu de données, méthodologie, et statistiques utilisées pour l'estimation de la souffrance contenue dans les boîtes d'oeufs.\n",
    "\n",
    "Nous commençons par l'import de la base de données complète d'open food facts obtenue le 31 mars 2025.\n",
    "\n",
    "De cette base de données, nous ne retenons que les colonnes (goodcol) nécessaires au calcul du poids de souffrance, telles que définies dans le code.\n",
    "\n",
    "\n"
   ]
  },
  {
   "cell_type": "code",
   "execution_count": null,
   "id": "149e0c77",
   "metadata": {},
   "outputs": [],
   "source": [
    "import sys\n",
    "sys.path.append(\"backend\")\n",
    "\n",
    "import duckdb\n",
    "import requests\n",
    "\n",
    "import pandas as pd\n",
    "pd.set_option('display.max_rows', 100)\n",
    "pd.set_option('display.max_colwidth', 1000)\n"
   ]
  },
  {
   "cell_type": "code",
   "execution_count": null,
   "id": "9094c3c8",
   "metadata": {},
   "outputs": [],
   "source": [
    "LOCAL_PARQUET = r\"..\\data\\food.parquet\"\n",
    "SOURCE_PARQUET = 'https://huggingface.co/datasets/openfoodfacts/product-database/resolve/main/food.parquet'\n",
    "\n",
    "download = input('Télécharger le dernier parquet (4 GO) ? o/n')\n",
    "\n",
    "if download == 'o':\n",
    "\n",
    "    with requests.get(SOURCE_PARQUET, stream=True) as r:\n",
    "        r.raise_for_status()\n",
    "        with open(LOCAL_PARQUET, 'wb') as f:\n",
    "            for chunk in r.iter_content(chunk_size=8192):\n",
    "                f.write(chunk)\n",
    "\n"
   ]
  },
  {
   "cell_type": "code",
   "execution_count": null,
   "id": "4c642896",
   "metadata": {},
   "outputs": [],
   "source": [
    "\n",
    "\n",
    "minicol=['code', # ID\n",
    " 'categories_tags', # déjà présent\n",
    " 'labels_tags', # déjà présent\n",
    " 'product_name', # déjà présent\n",
    " 'generic_name',\n",
    " 'quantity',\n",
    " 'product_quantity_unit',\n",
    " 'product_quantity',\n",
    " 'allergens_tags',\n",
    " 'ingredients_tags',\n",
    " 'ingredients',\n",
    " 'countries_tags',\n",
    " 'images',\n",
    " ]\n",
    "\n",
    "duckdb.execute(f\"CREATE OR REPLACE VIEW db_col AS SELECT {','.join(minicol)} FROM '{LOCAL_PARQUET}'\")\n",
    "duckdb.execute(\"SUMMARIZE db_col\").df()"
   ]
  },
  {
   "cell_type": "markdown",
   "id": "79b5df47",
   "metadata": {},
   "source": [
    "# Identification des oeufs\n",
    "\n",
    "## Approche additive\n",
    "\n",
    "Le résumé de la base de données indique qu'il y a 3,78 millions de produits.\n",
    "\n",
    "On note au passage que `quantity` et `product_quantity`, qui constituent la base de notre approche, nécessiteront un gros travail se nettoyage.\n",
    "\n",
    "L'identification des boîtes d'oeufs semble assez pédestre, puisque selon l'approche taxonomique il suffirait de sélectionner les produits ayant `en:chicken-eggs` dans `categories_tags`.\n",
    "\n",
    "Combien y en a-t-il ?\n"
   ]
  },
  {
   "cell_type": "code",
   "execution_count": null,
   "id": "97128210",
   "metadata": {},
   "outputs": [],
   "source": [
    "duckdb.execute(\"SELECT COUNT(*) FROM db_col WHERE 'en:chicken-eggs' IN categories_tags\").df()\n"
   ]
  },
  {
   "cell_type": "markdown",
   "id": "2d9e709c",
   "metadata": {},
   "source": [
    "## Approche soustractive\n",
    "\n",
    "On suppose que la taxonomie est incomplète / imparfaite et on tente une approche par soustraction:\n",
    "plutôt que de prendre les éléments d'oeufs de poule, on sélectionne les oeufs dont on enlève tout ce qui est identifié comme oeufs d'autre animaux, en supposant que le défaut est oeuf de poule.\n",
    "\n",
    "Afin d'arbitrer entre les deux approches, on compare le nombre d'éléments de cette approche avec le nombre d'éléments précédents et échantillonne quelques éléments afin de voir si cela a du sens.\n"
   ]
  },
  {
   "cell_type": "code",
   "execution_count": null,
   "id": "57aeaa6b",
   "metadata": {},
   "outputs": [],
   "source": [
    "ltags=duckdb.execute(\"SELECT list_distinct(categories_tags) FROM db_col WHERE 'en:eggs' IN categories_tags\").df()\n",
    "set(x for xs in ltags.iloc[:, 0] for x in xs if x.startswith(\"en\") and x.endswith(\"-eggs\"))\n"
   ]
  },
  {
   "cell_type": "markdown",
   "id": "0b7d5428",
   "metadata": {},
   "source": [
    "Avec cette approche nous ne sommes pas parvenus à retrouver les éléments \"ostrich eggs\", \"guineafowl eggs\", etc.\n",
    "Nous parvenons à cet ensemble d'éléments à exclure :"
   ]
  },
  {
   "cell_type": "code",
   "execution_count": null,
   "id": "7315e09d",
   "metadata": {},
   "outputs": [],
   "source": [
    "pas_poule={'en:chocolate-eggs',\n",
    " 'en:duck-eggs',\n",
    " 'en:easter-eggs',\n",
    " 'en:fish-eggs',\n",
    " 'en:free-range-duck-eggs',\n",
    " 'en:quail-eggs',\n",
    " 'en:raw-quail-eggs',\n",
    " 'en:savoury-eggs',\n",
    " 'en:scotch-eggs',\n",
    " 'en:streamed-eggs',\n",
    "'en:meals',\n",
    "'en:snacks',        \n",
    "'en:meats-and-their-products',\n",
    "'en:breads'\n",
    "          }\n",
    "\n",
    "\n",
    "joint=\"' NOT IN categories_tags AND '\".join(list(pas_poule))\n",
    "request=\"CREATE OR REPLACE VIEW eggs AS SELECT * FROM db_col WHERE 'en:eggs' IN categories_tags AND '\" +\\\n",
    "         joint+\"' NOT IN categories_tags\"\n",
    "#print(request)\n",
    "\n",
    "duckdb.execute(request)\n",
    "eggs_from_parquet_duckdb=duckdb.execute(\"FROM eggs\").df()"
   ]
  },
  {
   "cell_type": "code",
   "execution_count": null,
   "id": "90b04ea9",
   "metadata": {},
   "outputs": [],
   "source": [
    "eggs_from_parquet_duckdb.sample(50, random_state=10)"
   ]
  },
  {
   "cell_type": "markdown",
   "id": "f8412771",
   "metadata": {},
   "source": [
    "Conversion de la synthaxe duckdb en json"
   ]
  },
  {
   "cell_type": "code",
   "execution_count": null,
   "id": "cd040e0e",
   "metadata": {},
   "outputs": [],
   "source": [
    "import json\n",
    "import numpy as np\n",
    "\n",
    "cols_to_json = []\n",
    "\n",
    "for col in eggs_from_parquet_duckdb.columns:\n",
    "    sample = eggs_from_parquet_duckdb[col].dropna().head(20)\n",
    "    if sample.apply(lambda x: isinstance(x, (list, dict, np.ndarray))).any():\n",
    "        cols_to_json.append(col)\n",
    "\n",
    "cols_to_json\n",
    "\n",
    "cols_to_json_for_import = cols_to_json + ['ingredients']"
   ]
  },
  {
   "cell_type": "code",
   "execution_count": null,
   "id": "f0d11730",
   "metadata": {},
   "outputs": [],
   "source": [
    "eggs_from_parquet = eggs_from_parquet_duckdb.copy()\n",
    "\n",
    "def ndarray_to_json(arr):\n",
    "    if isinstance(arr, (list, dict)):\n",
    "        return json.dumps(arr)\n",
    "    elif isinstance(arr, np.ndarray):\n",
    "        return json.dumps(arr.tolist())\n",
    "    else:\n",
    "        return arr  # valeur non traitée\n",
    "\n",
    "for col in cols_to_json_for_import:\n",
    "    eggs_from_parquet[col] = eggs_from_parquet_duckdb[col].apply(ndarray_to_json)"
   ]
  },
  {
   "cell_type": "code",
   "execution_count": null,
   "id": "fbee7da2",
   "metadata": {},
   "outputs": [],
   "source": [
    "with open(\"../data/cols_to_json.txt\", \"w\") as f:\n",
    "    json.dump(cols_to_json_for_import, f)\n",
    "\n",
    "eggs_from_parquet.to_csv(\"../data/eggs_from_parquet.csv\", index=False)\n",
    "eggs_from_parquet"
   ]
  }
 ],
 "metadata": {
  "kernelspec": {
   "display_name": "Python 3",
   "language": "python",
   "name": "python3"
  },
  "language_info": {
   "codemirror_mode": {
    "name": "ipython",
    "version": 3
   },
   "file_extension": ".py",
   "mimetype": "text/x-python",
   "name": "python",
   "nbconvert_exporter": "python",
   "pygments_lexer": "ipython3",
   "version": "3.13.3"
  }
 },
 "nbformat": 4,
 "nbformat_minor": 5
}
