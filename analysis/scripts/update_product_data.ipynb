{
 "cells": [
  {
   "cell_type": "code",
   "execution_count": 11,
   "id": "78771480",
   "metadata": {},
   "outputs": [],
   "source": [
    "import pandas as pd\n",
    "import requests\n",
    "import os\n",
    "\n",
    "# =============================================================================\n",
    "# CONFIGURATION - Modifiez ces constantes selon vos besoins\n",
    "# =============================================================================\n",
    "\n",
    "# Identifiants OpenFoodFacts (obligatoires)\n",
    "USERNAME = \"\"\n",
    "PASSWORD = \"\"\n",
    "\n",
    "# Données mode d'élevage à uploader\n",
    "# 2 colonnes utilisées dans chaque csv : 'barcode' et 'tag'\n",
    "# colonne 'tag' de new_breedings ---> ajoute un tag de catégorie au produit OFF ('en:cage-chicken-eggs')\n",
    "# colonne 'tag' de new_quantities ---> remplace la quantité du produit OFF ('12 pcs')\n",
    "DATA_PATH = \"../data/\"\n",
    "FILE_NAME_BREEDINGS = \"new_breedings_mai_2025.csv\"\n",
    "FILE_NAME_QUANTITIES = \"new_quantities_mai_2025.csv\"\n",
    "\n",
    "# API OpenFoodFacts\n",
    "OFF_API_URL = \"https://world.openfoodfacts.org/api/v0/product/\"\n",
    "OFF_WRITE_URL = \"https://world.openfoodfacts.org/cgi/product_jqm2.pl\"\n",
    "\n",
    "# =============================================================================\n"
   ]
  },
  {
   "cell_type": "markdown",
   "id": "40927d2e",
   "metadata": {},
   "source": [
    "# Upload des modes d'élevage"
   ]
  },
  {
   "cell_type": "code",
   "execution_count": 12,
   "id": "9e8325f3",
   "metadata": {},
   "outputs": [
    {
     "data": {
      "application/vnd.microsoft.datawrangler.viewer.v0+json": {
       "columns": [
        {
         "name": "index",
         "rawType": "int64",
         "type": "integer"
        },
        {
         "name": "barcode",
         "rawType": "object",
         "type": "string"
        },
        {
         "name": "tag",
         "rawType": "object",
         "type": "string"
        }
       ],
       "ref": "28fc1913-2f84-451d-b77b-01e9fd38d14d",
       "rows": [
        [
         "0",
         "5400208005190",
         "en:organic-eggs"
        ],
        [
         "1",
         "5701607583013",
         "en:organic-eggs"
        ],
        [
         "2",
         "8033576311098",
         "en:organic-eggs"
        ],
        [
         "3",
         "8033622750932",
         "en:organic-eggs"
        ],
        [
         "4",
         "8420415012689",
         "en:organic-eggs"
        ],
        [
         "5",
         "3760086620000",
         "en:organic-eggs"
        ],
        [
         "6",
         "2025466240072",
         "en:organic-eggs"
        ],
        [
         "7",
         "9050482136705",
         "en:organic-eggs"
        ],
        [
         "8",
         "3479436382009",
         "en:organic-eggs"
        ],
        [
         "9",
         "3578402323258",
         "en:organic-eggs"
        ],
        [
         "10",
         "3250393378515",
         "en:organic-eggs"
        ],
        [
         "11",
         "3448601000000",
         "en:organic-eggs"
        ],
        [
         "12",
         "3700468700791",
         "en:organic-eggs"
        ],
        [
         "13",
         "3770003156024",
         "en:organic-eggs"
        ],
        [
         "14",
         "3251320931308",
         "en:free-range-chicken-eggs"
        ],
        [
         "15",
         "3273051320138",
         "en:free-range-chicken-eggs"
        ],
        [
         "16",
         "3760214340091",
         "en:free-range-chicken-eggs"
        ],
        [
         "17",
         "3368170010128",
         "en:free-range-chicken-eggs"
        ],
        [
         "18",
         "3683080275659",
         "en:free-range-chicken-eggs"
        ],
        [
         "19",
         "3511050151132",
         "en:free-range-chicken-eggs"
        ],
        [
         "20",
         "3700716412223",
         "en:free-range-chicken-eggs"
        ],
        [
         "21",
         "3760053320001",
         "en:free-range-chicken-eggs"
        ],
        [
         "22",
         "3251320795023",
         "en:free-range-chicken-eggs"
        ],
        [
         "23",
         "3770009531016",
         "en:free-range-chicken-eggs"
        ],
        [
         "24",
         "3282070099284",
         "en:free-range-chicken-eggs"
        ],
        [
         "25",
         "3760073540953",
         "en:free-range-chicken-eggs"
        ],
        [
         "26",
         "3256228972729",
         "en:free-range-chicken-eggs"
        ],
        [
         "27",
         "00257961",
         "en:free-range-chicken-eggs"
        ],
        [
         "28",
         "2000000902951",
         "en:free-range-chicken-eggs"
        ],
        [
         "29",
         "3262581523317",
         "en:free-range-chicken-eggs"
        ],
        [
         "30",
         "3273050520133",
         "en:free-range-chicken-eggs"
        ],
        [
         "31",
         "3332930010260",
         "en:free-range-chicken-eggs"
        ],
        [
         "32",
         "3332930010277",
         "en:free-range-chicken-eggs"
        ],
        [
         "33",
         "3336420200001",
         "en:free-range-chicken-eggs"
        ],
        [
         "34",
         "3348680000055",
         "en:free-range-chicken-eggs"
        ],
        [
         "35",
         "3410600012605",
         "en:free-range-chicken-eggs"
        ],
        [
         "36",
         "3414280038122",
         "en:free-range-chicken-eggs"
        ],
        [
         "37",
         "3423637075062",
         "en:free-range-chicken-eggs"
        ],
        [
         "38",
         "3429640000572",
         "en:free-range-chicken-eggs"
        ],
        [
         "39",
         "3479431310007",
         "en:free-range-chicken-eggs"
        ],
        [
         "40",
         "3479437242005",
         "en:free-range-chicken-eggs"
        ],
        [
         "41",
         "3503018858122",
         "en:free-range-chicken-eggs"
        ],
        [
         "42",
         "3760010220276",
         "en:free-range-chicken-eggs"
        ],
        [
         "43",
         "3760040340043",
         "en:free-range-chicken-eggs"
        ],
        [
         "44",
         "3760043550043",
         "en:free-range-chicken-eggs"
        ],
        [
         "45",
         "3760058480120",
         "en:free-range-chicken-eggs"
        ],
        [
         "46",
         "3760092320024",
         "en:free-range-chicken-eggs"
        ],
        [
         "47",
         "3760148080025",
         "en:free-range-chicken-eggs"
        ],
        [
         "48",
         "3760150111489",
         "en:free-range-chicken-eggs"
        ],
        [
         "49",
         "3760150760175",
         "en:free-range-chicken-eggs"
        ]
       ],
       "shape": {
        "columns": 2,
        "rows": 397
       }
      },
      "text/html": [
       "<div>\n",
       "<style scoped>\n",
       "    .dataframe tbody tr th:only-of-type {\n",
       "        vertical-align: middle;\n",
       "    }\n",
       "\n",
       "    .dataframe tbody tr th {\n",
       "        vertical-align: top;\n",
       "    }\n",
       "\n",
       "    .dataframe thead th {\n",
       "        text-align: right;\n",
       "    }\n",
       "</style>\n",
       "<table border=\"1\" class=\"dataframe\">\n",
       "  <thead>\n",
       "    <tr style=\"text-align: right;\">\n",
       "      <th></th>\n",
       "      <th>barcode</th>\n",
       "      <th>tag</th>\n",
       "    </tr>\n",
       "  </thead>\n",
       "  <tbody>\n",
       "    <tr>\n",
       "      <th>0</th>\n",
       "      <td>5400208005190</td>\n",
       "      <td>en:organic-eggs</td>\n",
       "    </tr>\n",
       "    <tr>\n",
       "      <th>1</th>\n",
       "      <td>5701607583013</td>\n",
       "      <td>en:organic-eggs</td>\n",
       "    </tr>\n",
       "    <tr>\n",
       "      <th>2</th>\n",
       "      <td>8033576311098</td>\n",
       "      <td>en:organic-eggs</td>\n",
       "    </tr>\n",
       "    <tr>\n",
       "      <th>3</th>\n",
       "      <td>8033622750932</td>\n",
       "      <td>en:organic-eggs</td>\n",
       "    </tr>\n",
       "    <tr>\n",
       "      <th>4</th>\n",
       "      <td>8420415012689</td>\n",
       "      <td>en:organic-eggs</td>\n",
       "    </tr>\n",
       "    <tr>\n",
       "      <th>...</th>\n",
       "      <td>...</td>\n",
       "      <td>...</td>\n",
       "    </tr>\n",
       "    <tr>\n",
       "      <th>392</th>\n",
       "      <td>3578402323258</td>\n",
       "      <td>en:chicken-eggs</td>\n",
       "    </tr>\n",
       "    <tr>\n",
       "      <th>393</th>\n",
       "      <td>3250393378515</td>\n",
       "      <td>en:chicken-eggs</td>\n",
       "    </tr>\n",
       "    <tr>\n",
       "      <th>394</th>\n",
       "      <td>3448601000000</td>\n",
       "      <td>en:chicken-eggs</td>\n",
       "    </tr>\n",
       "    <tr>\n",
       "      <th>395</th>\n",
       "      <td>3700468700791</td>\n",
       "      <td>en:chicken-eggs</td>\n",
       "    </tr>\n",
       "    <tr>\n",
       "      <th>396</th>\n",
       "      <td>3770003156024</td>\n",
       "      <td>en:chicken-eggs</td>\n",
       "    </tr>\n",
       "  </tbody>\n",
       "</table>\n",
       "<p>397 rows × 2 columns</p>\n",
       "</div>"
      ],
      "text/plain": [
       "           barcode              tag\n",
       "0    5400208005190  en:organic-eggs\n",
       "1    5701607583013  en:organic-eggs\n",
       "2    8033576311098  en:organic-eggs\n",
       "3    8033622750932  en:organic-eggs\n",
       "4    8420415012689  en:organic-eggs\n",
       "..             ...              ...\n",
       "392  3578402323258  en:chicken-eggs\n",
       "393  3250393378515  en:chicken-eggs\n",
       "394  3448601000000  en:chicken-eggs\n",
       "395  3700468700791  en:chicken-eggs\n",
       "396  3770003156024  en:chicken-eggs\n",
       "\n",
       "[397 rows x 2 columns]"
      ]
     },
     "execution_count": 12,
     "metadata": {},
     "output_type": "execute_result"
    }
   ],
   "source": [
    "new_breedings = pd.read_csv(os.path.join(DATA_PATH, FILE_NAME_BREEDINGS), sep=\";\")\n",
    "new_breedings"
   ]
  },
  {
   "cell_type": "code",
   "execution_count": null,
   "id": "610d6490",
   "metadata": {},
   "outputs": [],
   "source": [
    "\n",
    "\n",
    "\n",
    "def test_off_product(barcode, new_tag, user_id, password):\n",
    "    \"\"\"\n",
    "    Teste la lecture d'un produit et ajoute un tag de catégorie via l'API OpenFoodFacts sans écraser les autres tags.\n",
    "    \"\"\"\n",
    "    # Lecture produit\n",
    "    read_url = f\"{OFF_API_URL}{barcode}.json\"\n",
    "    response = requests.get(read_url)\n",
    "    if response.status_code != 200:\n",
    "        raise Exception(f\"Erreur lors de la lecture du produit {barcode} : HTTP {response.status_code}\")\n",
    "\n",
    "    product_data = response.json()\n",
    "    print(f\"Produit: {product_data.get('product', {}).get('product_name', 'Inconnu')}\")\n",
    "    print(f\"Catégories avant ajout: {product_data.get('product', {}).get('categories_tags', [])}\")\n",
    "\n",
    "    # Ajout du tag sans écraser\n",
    "    payload = {\n",
    "        \"code\": barcode,\n",
    "        \"add_categories\": new_tag,\n",
    "        \"user_id\": user_id,\n",
    "        \"password\": password,\n",
    "        \"comment\": \"Ajout automatique via script\",\n",
    "    }\n",
    "    write_response = requests.post(OFF_WRITE_URL, data=payload)\n",
    "    if write_response.status_code != 200:\n",
    "        raise Exception(f\"Erreur lors de l'écriture du produit {barcode} : HTTP {write_response.status_code}\")\n",
    "\n",
    "    print(f\"Tag '{new_tag}' ajouté pour le produit {barcode}.\")\n",
    "\n",
    "\n",
    "def add_tags_from_dataframe(df, user_id, password):\n",
    "    \"\"\"\n",
    "    Ajoute les tags de catégorie pour tous les produits dans un DataFrame sans écraser les catégories existantes.\n",
    "    Le DataFrame doit contenir les colonnes 'barcode' et 'tag'.\n",
    "    \"\"\"\n",
    "    for _, row in df.iterrows():\n",
    "        barcode = row['barcode']\n",
    "        tag = row['tag']\n",
    "        payload = {\n",
    "            \"code\": barcode,\n",
    "            \"add_categories\": tag,\n",
    "            \"user_id\": user_id,\n",
    "            \"password\": password,\n",
    "            \"comment\": \"Ajout automatique via script\",\n",
    "        }\n",
    "        response = requests.post(OFF_WRITE_URL, data=payload)\n",
    "        if response.status_code != 200:\n",
    "            print(f\"Erreur pour le produit {barcode} : HTTP {response.status_code}\")\n",
    "        else:\n",
    "            print(f\"Tag '{tag}' ajouté pour le produit {barcode}.\")\n",
    "\n",
    "\n",
    "# Exemple d'utilisation\n",
    "\n",
    "# Exemple : test d'un seul produit\n",
    "if input('chargement produit test (o/n)') == 'o':\n",
    "    test_off_product(\"3276570018128\", \"en:cage-chicken-eggs\", USERNAME, PASSWORD)\n",
    "\n",
    "# Ajout des produits de la df\n",
    "if input(f'chargement les données de la dataframe new_breedings sur OFF  ({new_breedings.shape[0]} produits) : saisir mass_upload') == 'mass_upload':\n",
    "    add_tags_from_dataframe(new_breedings, USERNAME, PASSWORD)\n"
   ]
  },
  {
   "cell_type": "markdown",
   "id": "f0ce3dcc",
   "metadata": {},
   "source": [
    "# Upload des quantités"
   ]
  },
  {
   "cell_type": "code",
   "execution_count": 17,
   "id": "226b8bd1",
   "metadata": {},
   "outputs": [
    {
     "data": {
      "application/vnd.microsoft.datawrangler.viewer.v0+json": {
       "columns": [
        {
         "name": "index",
         "rawType": "int64",
         "type": "integer"
        },
        {
         "name": "barcode",
         "rawType": "object",
         "type": "string"
        },
        {
         "name": "quantité",
         "rawType": "int64",
         "type": "integer"
        },
        {
         "name": "tag",
         "rawType": "object",
         "type": "string"
        }
       ],
       "ref": "9500b42b-192a-4d66-ab45-92538162dfa7",
       "rows": [
        [
         "0",
         "3025950000389",
         "4",
         "4 pcs"
        ],
        [
         "1",
         "8002790086044",
         "4",
         "4 pcs"
        ],
        [
         "2",
         "8008110007867",
         "4",
         "4 pcs"
        ],
        [
         "3",
         "8003636004536",
         "4",
         "4 pcs"
        ],
        [
         "4",
         "8006071950437",
         "4",
         "4 pcs"
        ],
        [
         "5",
         "8023797011068",
         "4",
         "4 pcs"
        ],
        [
         "6",
         "8033520000467",
         "4",
         "4 pcs"
        ],
        [
         "7",
         "3760150111489",
         "4",
         "4 pcs"
        ],
        [
         "8",
         "3760150760175",
         "4",
         "4 pcs"
        ],
        [
         "9",
         "8033622750932",
         "4",
         "4 pcs"
        ],
        [
         "10",
         "8009310001204",
         "4",
         "4 pcs"
        ],
        [
         "11",
         "3701091701278",
         "4",
         "4 pcs"
        ],
        [
         "12",
         "3175150090113",
         "6",
         "6 pcs"
        ],
        [
         "13",
         "3251320145040",
         "6",
         "6 pcs"
        ],
        [
         "14",
         "3257983912067",
         "6",
         "6 pcs"
        ],
        [
         "15",
         "3414280700067",
         "6",
         "6 pcs"
        ],
        [
         "16",
         "3460919343105",
         "6",
         "6 pcs"
        ],
        [
         "17",
         "3760150110987",
         "6",
         "6 pcs"
        ],
        [
         "18",
         "3760150111359",
         "6",
         "6 pcs"
        ],
        [
         "19",
         "3760189760108",
         "6",
         "6 pcs"
        ],
        [
         "20",
         "3275880633069",
         "6",
         "6 pcs"
        ],
        [
         "21",
         "5400101256651",
         "6",
         "6 pcs"
        ],
        [
         "22",
         "7300156480903",
         "6",
         "6 pcs"
        ],
        [
         "23",
         "8008110040338",
         "6",
         "6 pcs"
        ],
        [
         "24",
         "3273021230009",
         "6",
         "6 pcs"
        ],
        [
         "25",
         "5400141234121",
         "6",
         "6 pcs"
        ],
        [
         "26",
         "5400101405035",
         "6",
         "6 pcs"
        ],
        [
         "27",
         "3275881647065",
         "6",
         "6 pcs"
        ],
        [
         "28",
         "3361580000031",
         "6",
         "6 pcs"
        ],
        [
         "29",
         "3263858812219",
         "6",
         "6 pcs"
        ],
        [
         "30",
         "3282070023944",
         "6",
         "6 pcs"
        ],
        [
         "31",
         "8003100890665",
         "6",
         "6 pcs"
        ],
        [
         "32",
         "8010053047510",
         "6",
         "6 pcs"
        ],
        [
         "33",
         "8023797036399",
         "6",
         "6 pcs"
        ],
        [
         "34",
         "8002790083692",
         "6",
         "6 pcs"
        ],
        [
         "35",
         "8008110025861",
         "6",
         "6 pcs"
        ],
        [
         "36",
         "8003170026520",
         "6",
         "6 pcs"
        ],
        [
         "37",
         "202102141215002001109466",
         "6",
         "6 pcs"
        ],
        [
         "38",
         "8008110042004",
         "6",
         "6 pcs"
        ],
        [
         "39",
         "8011477637387",
         "6",
         "6 pcs"
        ],
        [
         "40",
         "8008110007928",
         "6",
         "6 pcs"
        ],
        [
         "41",
         "8003100855893",
         "6",
         "6 pcs"
        ],
        [
         "42",
         "8002790006486",
         "6",
         "6 pcs"
        ],
        [
         "43",
         "8003100855909",
         "6",
         "6 pcs"
        ],
        [
         "44",
         "8004862150080",
         "6",
         "6 pcs"
        ],
        [
         "45",
         "8002790191915",
         "6",
         "6 pcs"
        ],
        [
         "46",
         "8003100931627",
         "6",
         "6 pcs"
        ],
        [
         "47",
         "8057737590788",
         "6",
         "6 pcs"
        ],
        [
         "48",
         "8057737590061",
         "6",
         "6 pcs"
        ],
        [
         "49",
         "8057737590085",
         "6",
         "6 pcs"
        ]
       ],
       "shape": {
        "columns": 3,
        "rows": 593
       }
      },
      "text/html": [
       "<div>\n",
       "<style scoped>\n",
       "    .dataframe tbody tr th:only-of-type {\n",
       "        vertical-align: middle;\n",
       "    }\n",
       "\n",
       "    .dataframe tbody tr th {\n",
       "        vertical-align: top;\n",
       "    }\n",
       "\n",
       "    .dataframe thead th {\n",
       "        text-align: right;\n",
       "    }\n",
       "</style>\n",
       "<table border=\"1\" class=\"dataframe\">\n",
       "  <thead>\n",
       "    <tr style=\"text-align: right;\">\n",
       "      <th></th>\n",
       "      <th>barcode</th>\n",
       "      <th>quantité</th>\n",
       "      <th>tag</th>\n",
       "    </tr>\n",
       "  </thead>\n",
       "  <tbody>\n",
       "    <tr>\n",
       "      <th>0</th>\n",
       "      <td>3025950000389</td>\n",
       "      <td>4</td>\n",
       "      <td>4 pcs</td>\n",
       "    </tr>\n",
       "    <tr>\n",
       "      <th>1</th>\n",
       "      <td>8002790086044</td>\n",
       "      <td>4</td>\n",
       "      <td>4 pcs</td>\n",
       "    </tr>\n",
       "    <tr>\n",
       "      <th>2</th>\n",
       "      <td>8008110007867</td>\n",
       "      <td>4</td>\n",
       "      <td>4 pcs</td>\n",
       "    </tr>\n",
       "    <tr>\n",
       "      <th>3</th>\n",
       "      <td>8003636004536</td>\n",
       "      <td>4</td>\n",
       "      <td>4 pcs</td>\n",
       "    </tr>\n",
       "    <tr>\n",
       "      <th>4</th>\n",
       "      <td>8006071950437</td>\n",
       "      <td>4</td>\n",
       "      <td>4 pcs</td>\n",
       "    </tr>\n",
       "    <tr>\n",
       "      <th>...</th>\n",
       "      <td>...</td>\n",
       "      <td>...</td>\n",
       "      <td>...</td>\n",
       "    </tr>\n",
       "    <tr>\n",
       "      <th>588</th>\n",
       "      <td>3298624300010</td>\n",
       "      <td>30</td>\n",
       "      <td>30 pcs</td>\n",
       "    </tr>\n",
       "    <tr>\n",
       "      <th>589</th>\n",
       "      <td>3300755362307</td>\n",
       "      <td>30</td>\n",
       "      <td>30 pcs</td>\n",
       "    </tr>\n",
       "    <tr>\n",
       "      <th>590</th>\n",
       "      <td>6111262585557</td>\n",
       "      <td>30</td>\n",
       "      <td>30 pcs</td>\n",
       "    </tr>\n",
       "    <tr>\n",
       "      <th>591</th>\n",
       "      <td>13251212512000082794</td>\n",
       "      <td>90</td>\n",
       "      <td>90 pcs</td>\n",
       "    </tr>\n",
       "    <tr>\n",
       "      <th>592</th>\n",
       "      <td>13251212512000003627</td>\n",
       "      <td>180</td>\n",
       "      <td>180 pcs</td>\n",
       "    </tr>\n",
       "  </tbody>\n",
       "</table>\n",
       "<p>593 rows × 3 columns</p>\n",
       "</div>"
      ],
      "text/plain": [
       "                  barcode  quantité      tag\n",
       "0           3025950000389         4    4 pcs\n",
       "1           8002790086044         4    4 pcs\n",
       "2           8008110007867         4    4 pcs\n",
       "3           8003636004536         4    4 pcs\n",
       "4           8006071950437         4    4 pcs\n",
       "..                    ...       ...      ...\n",
       "588         3298624300010        30   30 pcs\n",
       "589         3300755362307        30   30 pcs\n",
       "590         6111262585557        30   30 pcs\n",
       "591  13251212512000082794        90   90 pcs\n",
       "592  13251212512000003627       180  180 pcs\n",
       "\n",
       "[593 rows x 3 columns]"
      ]
     },
     "execution_count": 17,
     "metadata": {},
     "output_type": "execute_result"
    }
   ],
   "source": [
    "new_quantities = pd.read_csv(os.path.join(DATA_PATH, FILE_NAME_QUANTITIES), sep=\";\")\n",
    "new_quantities"
   ]
  },
  {
   "cell_type": "code",
   "execution_count": null,
   "id": "b7963efb",
   "metadata": {},
   "outputs": [],
   "source": [
    "def test_off_product(barcode, new_tag, user_id, password):\n",
    "    \"\"\"\n",
    "    Teste la lecture d'un produit et ajoute un tag de catégorie via l'API OpenFoodFacts sans écraser les autres tags.\n",
    "    \"\"\"\n",
    "    # Lecture produit\n",
    "    read_url = f\"{OFF_API_URL}{barcode}.json\"\n",
    "    response = requests.get(read_url)\n",
    "    if response.status_code != 200:\n",
    "        raise Exception(f\"Erreur lors de la lecture du produit {barcode} : HTTP {response.status_code}\")\n",
    "\n",
    "    product_data = response.json()\n",
    "    print(f\"Produit: {product_data.get('product', {}).get('product_name', 'Inconnu')}\")\n",
    "    print(f\"Quantité avant ajout: {product_data.get('product', {}).get('quantity', [])}\")\n",
    "\n",
    "    # Ajout du tag sans écraser\n",
    "    payload = {\n",
    "        \"code\": barcode,\n",
    "        \"quantity\": new_tag,\n",
    "        \"user_id\": user_id,\n",
    "        \"password\": password,\n",
    "        \"comment\": \"Ajout automatique via script\",\n",
    "    }\n",
    "    write_response = requests.post(OFF_WRITE_URL, data=payload)\n",
    "    if write_response.status_code != 200:\n",
    "        raise Exception(f\"Erreur lors de l'écriture du produit {barcode} : HTTP {write_response.status_code}\")\n",
    "\n",
    "    print(f\"Tag '{new_tag}' ajouté pour le produit {barcode}.\")\n",
    "\n",
    "\n",
    "def add_tags_from_dataframe(df, user_id, password):\n",
    "    \"\"\"\n",
    "    Ajoute les tags de catégorie pour tous les produits dans un DataFrame sans écraser les catégories existantes.\n",
    "    Le DataFrame doit contenir les colonnes 'barcode' et 'tag'.\n",
    "    \"\"\"\n",
    "    for _, row in df.iterrows():\n",
    "        barcode = row['barcode']\n",
    "        tag = row['tag']\n",
    "        payload = {\n",
    "            \"code\": barcode,\n",
    "            \"quantity\": tag,\n",
    "            \"user_id\": user_id,\n",
    "            \"password\": password,\n",
    "            \"comment\": \"Ajout automatique via script\",\n",
    "        }\n",
    "        response = requests.post(OFF_WRITE_URL, data=payload)\n",
    "        if response.status_code != 200:\n",
    "            print(f\"Erreur pour le produit {barcode} : HTTP {response.status_code}\")\n",
    "        else:\n",
    "            print(f\"Tag '{tag}' ajouté pour le produit {barcode}.\")\n",
    "\n",
    "\n",
    "# Exemple d'utilisation\n",
    "\n",
    "# Ajout des produits de la df\n",
    "if input(f'chargement les données de la dataframe new_quantities sur OFF  ({new_quantities.shape[0]} produits) : saisir mass_upload') == 'mass_upload':\n",
    "    add_tags_from_dataframe(new_quantities, USERNAME, PASSWORD)"
   ]
  }
 ],
 "metadata": {
  "kernelspec": {
   "display_name": "Python 3",
   "language": "python",
   "name": "python3"
  },
  "language_info": {
   "codemirror_mode": {
    "name": "ipython",
    "version": 3
   },
   "file_extension": ".py",
   "mimetype": "text/x-python",
   "name": "python",
   "nbconvert_exporter": "python",
   "pygments_lexer": "ipython3",
   "version": "3.13.3"
  }
 },
 "nbformat": 4,
 "nbformat_minor": 5
}
